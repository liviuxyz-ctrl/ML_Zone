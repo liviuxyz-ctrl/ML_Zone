{
 "cells": [
  {
   "cell_type": "code",
   "execution_count": 1,
   "id": "0f7eae3d-b0b5-4f79-9ae4-1fb53fe2f592",
   "metadata": {},
   "outputs": [
    {
     "ename": "ModuleNotFoundError",
     "evalue": "No module named 'torch'",
     "output_type": "error",
     "traceback": [
      "\u001b[0;31m---------------------------------------------------------------------------\u001b[0m",
      "\u001b[0;31mModuleNotFoundError\u001b[0m                       Traceback (most recent call last)",
      "Input \u001b[0;32mIn [1]\u001b[0m, in \u001b[0;36m<cell line: 9>\u001b[0;34m()\u001b[0m\n\u001b[1;32m      6\u001b[0m \u001b[38;5;28;01mfrom\u001b[39;00m \u001b[38;5;21;01msklearn\u001b[39;00m\u001b[38;5;21;01m.\u001b[39;00m\u001b[38;5;21;01mpreprocessing\u001b[39;00m \u001b[38;5;28;01mimport\u001b[39;00m OneHotEncoder\n\u001b[1;32m      8\u001b[0m \u001b[38;5;66;03m#import cv2\u001b[39;00m\n\u001b[0;32m----> 9\u001b[0m \u001b[38;5;28;01mimport\u001b[39;00m \u001b[38;5;21;01mtorch\u001b[39;00m\n\u001b[1;32m     10\u001b[0m \u001b[38;5;28;01mimport\u001b[39;00m \u001b[38;5;21;01mtorch\u001b[39;00m\u001b[38;5;21;01m.\u001b[39;00m\u001b[38;5;21;01mnn\u001b[39;00m \u001b[38;5;28;01mas\u001b[39;00m \u001b[38;5;21;01mnn\u001b[39;00m \n\u001b[1;32m     11\u001b[0m \u001b[38;5;28;01mimport\u001b[39;00m \u001b[38;5;21;01mtorch\u001b[39;00m\u001b[38;5;21;01m.\u001b[39;00m\u001b[38;5;21;01mnn\u001b[39;00m\u001b[38;5;21;01m.\u001b[39;00m\u001b[38;5;21;01mfunctional\u001b[39;00m \u001b[38;5;28;01mas\u001b[39;00m \u001b[38;5;21;01mF\u001b[39;00m\n",
      "\u001b[0;31mModuleNotFoundError\u001b[0m: No module named 'torch'"
     ]
    }
   ],
   "source": [
    "import numpy as np\n",
    "import pandas as pd\n",
    "# Importing all ML dependencies\n",
    "from sklearn.model_selection import train_test_split\n",
    "from sklearn.metrics import accuracy_score\n",
    "from sklearn.preprocessing import OneHotEncoder\n",
    "\n",
    "#import cv2\n",
    "import torch\n",
    "import torch.nn as nn \n",
    "import torch.nn.functional as F\n",
    "import torchvision\n",
    "\n",
    "# Plots\n",
    "import matplotlib.pyplot as plt\n",
    "\n",
    "# Utils\n",
    "from tqdm import tqdm, trange\n",
    "import os"
   ]
  },
  {
   "cell_type": "markdown",
   "id": "f6eea694-98c1-433f-be0a-7eb409eb75a3",
   "metadata": {},
   "source": [
    "## Creating the DataSet class"
   ]
  },
  {
   "cell_type": "markdown",
   "id": "69bd5a2a-cb74-4a5c-9054-01e86657be15",
   "metadata": {},
   "source": [
    "Importing DataSet and DataLoader from torch"
   ]
  },
  {
   "cell_type": "code",
   "execution_count": 5,
   "id": "e8943e9e-1bf8-439f-8ef7-149e2f25a4dc",
   "metadata": {},
   "outputs": [
    {
     "ename": "ModuleNotFoundError",
     "evalue": "No module named 'torch'",
     "output_type": "error",
     "traceback": [
      "\u001b[0;31m---------------------------------------------------------------------------\u001b[0m",
      "\u001b[0;31mModuleNotFoundError\u001b[0m                       Traceback (most recent call last)",
      "Input \u001b[0;32mIn [5]\u001b[0m, in \u001b[0;36m<cell line: 1>\u001b[0;34m()\u001b[0m\n\u001b[0;32m----> 1\u001b[0m \u001b[38;5;28;01mfrom\u001b[39;00m \u001b[38;5;21;01mtorch\u001b[39;00m\u001b[38;5;21;01m.\u001b[39;00m\u001b[38;5;21;01mutils\u001b[39;00m\u001b[38;5;21;01m.\u001b[39;00m\u001b[38;5;21;01mdata\u001b[39;00m \u001b[38;5;28;01mimport\u001b[39;00m Dataset, DataLoader\n",
      "\u001b[0;31mModuleNotFoundError\u001b[0m: No module named 'torch'"
     ]
    }
   ],
   "source": [
    "from torch.utils.data import Dataset, DataLoader"
   ]
  },
  {
   "cell_type": "code",
   "execution_count": null,
   "id": "8e9b74bc-1bf9-4b37-b993-2aa03c1a889d",
   "metadata": {},
   "outputs": [],
   "source": [
    "class DataSet(Dataset):\n",
    "    def __init__(self):\n",
    "        numbers = np.arange(10000)\n",
    "        self.data = numbers\n",
    "        \n",
    "    def __len__(self):\n",
    "        return len(self.data)\n",
    "    \n",
    "    def __getitem__(self, index):\n",
    "        return self.data[index]"
   ]
  },
  {
   "cell_type": "code",
   "execution_count": null,
   "id": "1da4148d-20a5-40cb-bfd9-8632c893346f",
   "metadata": {},
   "outputs": [],
   "source": [
    "dataset = DataSet()\n",
    "print(len(dataset)) #The lenght of the data set\n",
    "print(dataset.data) #The data set"
   ]
  },
  {
   "cell_type": "markdown",
   "id": "a673251b-51e5-48fa-8dc6-30000e6d5340",
   "metadata": {},
   "source": [
    "### Training "
   ]
  },
  {
   "cell_type": "markdown",
   "id": "a5196a0e-ab69-4838-bbc0-4de7421954d7",
   "metadata": {},
   "source": [
    "Importing the FashionMNIST dataset from torchvision datasets"
   ]
  },
  {
   "cell_type": "code",
   "execution_count": null,
   "id": "7058debc-4536-4636-b515-e23676e805f9",
   "metadata": {},
   "outputs": [],
   "source": [
    "from torchvision.datasets import FashionMNIST"
   ]
  },
  {
   "cell_type": "markdown",
   "id": "a6578084-aa51-4840-b11d-74dce18cb60b",
   "metadata": {},
   "source": [
    "Creating the train and test data for our model"
   ]
  },
  {
   "cell_type": "code",
   "execution_count": null,
   "id": "3356e02d-5e89-4c7e-a715-93d5c367d6ac",
   "metadata": {},
   "outputs": [],
   "source": [
    "train_data = FashionMNIST(root = os.path.join('..', 'data', 'tmp', 'FashionMNIST'), download=True, train=True)\n",
    "test_data = FashionMNIST(root = os.path.join('..', 'data', 'tmp', 'FashionMNIST'), download=True, train=False)"
   ]
  },
  {
   "cell_type": "markdown",
   "id": "5a9646b2-7bf3-4820-be65-78fb86e00f0e",
   "metadata": {},
   "source": [
    "Changhing the data type from a 256 int to 0-1 floating point, for a more optimal execution time."
   ]
  },
  {
   "cell_type": "code",
   "execution_count": null,
   "id": "d3b203a5-df96-4fa6-81b1-589e1ae90ae4",
   "metadata": {},
   "outputs": [],
   "source": [
    "import pandas as pd\n",
    "\n",
    "X_train, y_train = train_data.data, train_data.targets\n",
    "X_test, y_test = test_data.data, test_data.targets\n",
    "X_train = X_train / 255\n",
    "X_test = X_test / 255\n"
   ]
  },
  {
   "cell_type": "markdown",
   "id": "43b2bc5f-35ff-4d9e-a70c-e44efeba80a9",
   "metadata": {},
   "source": [
    "Reshaping the tensor "
   ]
  },
  {
   "cell_type": "code",
   "execution_count": null,
   "id": "84b7ce5b-3a23-4523-9860-5d8685cac5cf",
   "metadata": {},
   "outputs": [],
   "source": [
    "X_train = X_train.reshape(X_train.shape[0], X_train.shape[1]**2)\n",
    "X_test = X_test.reshape(X_test.shape[0], X_test.shape[1]**2)\n",
    "#De preferat sa explic cum a facut reshape\n",
    "\n"
   ]
  },
  {
   "cell_type": "markdown",
   "id": "975ca937-7f91-4305-a668-3c2d7c657881",
   "metadata": {},
   "source": [
    "Displaying the tensors final shape"
   ]
  },
  {
   "cell_type": "code",
   "execution_count": null,
   "id": "882d478c-ee9b-47bd-8dde-ae6b51363e88",
   "metadata": {},
   "outputs": [],
   "source": [
    "X_train.shape, X_test.shape, y_train.shape, y_test.shape"
   ]
  },
  {
   "cell_type": "code",
   "execution_count": null,
   "id": "a07de67e-eb99-4541-b5ee-6c1aa0c87851",
   "metadata": {},
   "outputs": [],
   "source": [
    "X = np.concatenate([X_train, X_test])\n",
    "y = np.concatenate([y_train, y_test])\n",
    "X.shape, y.shape"
   ]
  },
  {
   "cell_type": "code",
   "execution_count": null,
   "id": "6f35b092-d921-4ffe-a91a-f092ea995d11",
   "metadata": {},
   "outputs": [],
   "source": [
    "def display_ex_img():\n",
    "    G = 16\n",
    "    X_sel = X[:G * G]\n",
    "    plt.figure(figsize = (10, 10))\n",
    "    return plt.imshow(np.concatenate(X_sel.reshape(G, 28 * G, 28), axis = 1))\n",
    "display_ex_img()"
   ]
  },
  {
   "cell_type": "code",
   "execution_count": null,
   "id": "4a89babf-3f98-4b4b-8162-aaa68a150440",
   "metadata": {},
   "outputs": [],
   "source": [
    "class DigitsDataset(Dataset):\n",
    "    def __init__(self, X, y):\n",
    "        self.X = torch.tensor(X, dtype = torch.float32)\n",
    "        self.y = torch.tensor(y, dtype = torch.long)\n",
    "        self.num_features = X.shape[1]\n",
    "        self.num_classes = len(np.unique(y))\n",
    "        \n",
    "    def __len__(self):\n",
    "        return len(self.X)\n",
    "    \n",
    "    def __getitem__(self, index):\n",
    "        return (self.X[index], self.y[index])"
   ]
  },
  {
   "cell_type": "code",
   "execution_count": null,
   "id": "e90c7f71-73ad-4476-bf0c-a108bfc3229e",
   "metadata": {},
   "outputs": [],
   "source": [
    "dataset = DigitsDataset(X, y)\n",
    "dataloader = DataLoader(dataset, batch_size = 64, shuffle = True)"
   ]
  },
  {
   "cell_type": "code",
   "execution_count": null,
   "id": "1f0ea131-9382-410c-af14-db50412f682b",
   "metadata": {},
   "outputs": [],
   "source": [
    "from torch.utils.data import random_split\n",
    "\n",
    "train_len = int(.8 * len(dataset))\n",
    "test_len = len(dataset) - train_len\n",
    "\n",
    "train_dataset, test_dataset = random_split(dataset, [train_len, test_len])"
   ]
  },
  {
   "cell_type": "code",
   "execution_count": null,
   "id": "bc382df9-d7f9-45b8-86af-a90e84e4e68c",
   "metadata": {},
   "outputs": [],
   "source": [
    "import torch.nn.functional as F\n",
    "\n",
    "class Model(nn.Module):\n",
    "    def __init__(self, input_dim, output_dim):\n",
    "        super(Model, self).__init__()\n",
    "        # Hidden layers\n",
    "        self.fc = nn.Linear(input_dim, 256)\n",
    "        self.fc2 = nn.Linear(256, 128)\n",
    "        self.fc3 = nn.Linear(128, output_dim)\n",
    "        \n",
    "    def forward(self, x):\n",
    "        x = self.fc(x)\n",
    "        x = F.leaky_relu(x, negative_slope=0.2)\n",
    "        x = self.fc2(x)\n",
    "        x = F.leaky_relu(x, negative_slope=0.2)\n",
    "        x = self.fc3(x)\n",
    "        return F.softmax(x, dim = 1)"
   ]
  },
  {
   "cell_type": "code",
   "execution_count": null,
   "id": "9886d0e1-9d90-498a-8c06-aab623a0a102",
   "metadata": {},
   "outputs": [],
   "source": [
    "input_shape = dataset.num_features\n",
    "output_shape = dataset.num_classes\n",
    "model = Model(input_shape, output_shape)"
   ]
  },
  {
   "cell_type": "code",
   "execution_count": null,
   "id": "a0f76b9f-7ce1-4cc2-993c-3846a4cb7c6b",
   "metadata": {},
   "outputs": [],
   "source": [
    "for p in model.parameters():\n",
    "    print(p.shape)"
   ]
  },
  {
   "cell_type": "code",
   "execution_count": null,
   "id": "e79fb1b4-494c-45fe-a131-8049d047ed8c",
   "metadata": {},
   "outputs": [],
   "source": [
    "learning_rate = 0.001\n",
    "optimizer = torch.optim.Adam(model.parameters(), lr=learning_rate)\n",
    "\n",
    "#optimizer = torch.optim.SGD(model.parameters(), lr=learning_rate)\n",
    "#optimizer = torch.optim.Adadelta(model.parameters(), learning_rate, rho=0.3, eps=1e-03, weight_decay=0)\n",
    "\n",
    "loss_function = nn.CrossEntropyLoss()"
   ]
  },
  {
   "cell_type": "code",
   "execution_count": null,
   "id": "b00b862f-e667-4cd8-ba8a-95e9bd919a0a",
   "metadata": {},
   "outputs": [],
   "source": [
    "batch_size = 64\n",
    "trainloader = DataLoader(train_dataset, batch_size=batch_size, shuffle=True)\n",
    "testloader = DataLoader(train_dataset, batch_size=len(test_dataset))"
   ]
  },
  {
   "cell_type": "code",
   "execution_count": null,
   "id": "84437e83-a6c9-4df8-b511-386cb83ee9c7",
   "metadata": {},
   "outputs": [],
   "source": [
    "epochs = 100\n",
    "accs = []\n",
    "losses = []\n",
    "model.train() \n",
    "for epoch in (t:= trange(epochs)):\n",
    "    \n",
    "    loss_epoch = 0.\n",
    "    acc = 0.\n",
    "    num_batches = 0\n",
    "    for X_batch, y_batch in trainloader:\n",
    "        num_batches +=1\n",
    "        y_pred = model(X_batch)\n",
    "        \n",
    "        loss = loss_function(y_pred, y_batch)    \n",
    "        loss_epoch += loss.item()\n",
    "        \n",
    "        acc += accuracy_score(torch.argmax(y_pred, axis = 1), y_batch)\n",
    "        \n",
    "        optimizer.zero_grad() \n",
    "        loss.backward()\n",
    "        optimizer.step()\n",
    "    \n",
    "    acc /= num_batches\n",
    "    loss_epoch /= num_batches\n",
    "    losses.append(loss_epoch)\n",
    "    accs.append(acc)\n",
    "    t.set_description(f\"Loss: {round(loss_epoch, 2), round(acc, 2)}\")"
   ]
  },
  {
   "cell_type": "code",
   "execution_count": null,
   "id": "3d7bc095-7a9b-4601-8708-f95dcd9d84c6",
   "metadata": {},
   "outputs": [],
   "source": [
    "fig, axs = plt.subplots(1, 2, figsize = (20, 5))\n",
    "\n",
    "axs[0].plot(losses)\n",
    "axs[1].plot(accs)"
   ]
  },
  {
   "cell_type": "code",
   "execution_count": null,
   "id": "b74cb54f-2d4d-41cc-a297-42ef33e937bf",
   "metadata": {},
   "outputs": [],
   "source": [
    "model.eval()\n",
    "X_test, y_test = test_dataset.dataset.X, test_dataset.dataset.y\n",
    "y_pred= model(X_test)\n",
    "\n",
    "print(accuracy_score(torch.argmax(y_pred, axis = 1), y_test))"
   ]
  }
 ],
 "metadata": {
  "kernelspec": {
   "display_name": "Python 3 (ipykernel)",
   "language": "python",
   "name": "python3"
  },
  "language_info": {
   "codemirror_mode": {
    "name": "ipython",
    "version": 3
   },
   "file_extension": ".py",
   "mimetype": "text/x-python",
   "name": "python",
   "nbconvert_exporter": "python",
   "pygments_lexer": "ipython3",
   "version": "3.10.2"
  }
 },
 "nbformat": 4,
 "nbformat_minor": 5
}
